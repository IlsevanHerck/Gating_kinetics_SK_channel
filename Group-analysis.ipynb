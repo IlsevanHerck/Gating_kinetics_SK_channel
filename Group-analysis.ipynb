{
 "cells": [
  {
   "cell_type": "markdown",
   "id": "4dba7ce8",
   "metadata": {},
   "source": [
    "# Analyze files per group of SK channel traces\n",
    "\n",
    "Supplement to the manuscript 'Gating kinetics and pharmacological properties of small conductance calcium-activated potassium channels' by Ilsbeth G.M. van Herck, Vincent Seutin, Bo H. Bentzen, Neil V. Marrion and Andrew G. Edwards <br/>\n",
    "DOI:\n",
    "\n",
    "This code analyzes the single SK channel traces per group (control, apamin and AP14145). Results are presented as text under the corresponding code. <br/>\n",
    "Part 1: Analyze all files for total time and events per group <br/>\n",
    "Part 2: Analyze all single channel patches for open probability and burst frequency <br/>\n",
    "Part 3: Analyze inter-burst behavior for selected patches <br/>\n",
    "\n",
    "Note: Part 1 has to be executed to load all data and perform analysis in part 2 and 3. "
   ]
  },
  {
   "cell_type": "code",
   "execution_count": 30,
   "id": "40bb98f6",
   "metadata": {},
   "outputs": [],
   "source": [
    "%reset -f\n",
    "import os\n",
    "import numpy as np\n",
    "import matplotlib.pylab as plt\n",
    "%matplotlib notebook"
   ]
  },
  {
   "cell_type": "markdown",
   "id": "c355849c",
   "metadata": {},
   "source": [
    "### Set output directory"
   ]
  },
  {
   "cell_type": "code",
   "execution_count": 31,
   "id": "aa1570d5",
   "metadata": {},
   "outputs": [],
   "source": [
    "outdir = \"group_analysis\""
   ]
  },
  {
   "cell_type": "markdown",
   "id": "48af6be9",
   "metadata": {},
   "source": [
    "### Choose group to analyze: control, apamin or AP14145"
   ]
  },
  {
   "cell_type": "code",
   "execution_count": 32,
   "id": "d7cb7f41",
   "metadata": {},
   "outputs": [
    {
     "data": {
      "application/vnd.jupyter.widget-view+json": {
       "model_id": "4c68ff2771bf4889a4d614c5989c161e",
       "version_major": 2,
       "version_minor": 0
      },
      "text/plain": [
       "Dropdown(description='Group', options=('control', 'apamin', 'AP14145'), value='control')"
      ]
     },
     "metadata": {},
     "output_type": "display_data"
    }
   ],
   "source": [
    "import ipywidgets\n",
    "group_select = ipywidgets.Dropdown(options=['control','apamin','AP14145'], \n",
    "                    description='Group')\n",
    "\n",
    "group_select"
   ]
  },
  {
   "cell_type": "code",
   "execution_count": null,
   "id": "c0178903",
   "metadata": {},
   "outputs": [],
   "source": []
  },
  {
   "cell_type": "markdown",
   "id": "ea6e8cc8",
   "metadata": {},
   "source": [
    "## Part 1: Analyze all files for total time and events per group"
   ]
  },
  {
   "cell_type": "code",
   "execution_count": 33,
   "id": "963eb2df",
   "metadata": {},
   "outputs": [
    {
     "name": "stdout",
     "output_type": "stream",
     "text": [
      "Number of recordings in group control: 16\n"
     ]
    }
   ],
   "source": [
    "group = group_select.label\n",
    "if group == 'control':\n",
    "    group_list_all = ['control_1', 'control_2', 'control_3', 'control_4','control_5','control_6','control_7','control_8','control_9','control_10','control_11','control_12','control_13','control_14','control_15','control_16_segment6','control_16_segment37']\n",
    "    print(\"Number of recordings in group {}: {}\".format(group, len(group_list_all)-1))\n",
    "elif group == 'apamin':\n",
    "    group_list_all = ['apamin_1', 'apamin_2', 'apamin_3', 'apamin_4','apamin_5','apamin_6','apamin_7','apamin_8','apamin_9','apamin_10','apamin_11']\n",
    "    print(\"Number of recordings in group {}: {}\".format(group, len(group_list_all)))\n",
    "elif group == 'AP14145':\n",
    "    group_list_all = ['AP14145_1', 'AP14145_2', 'AP14145_3', 'AP14145_4','AP14145_5','AP14145_6','AP14145_7','AP14145_8','AP14145_9']\n",
    "    print(\"Number of recordings in group {}: {}\".format(group, len(group_list_all)))"
   ]
  },
  {
   "cell_type": "code",
   "execution_count": 34,
   "id": "d62e0800",
   "metadata": {},
   "outputs": [],
   "source": [
    "##Create output directory\n",
    "if not os.path.exists(outdir):\n",
    "    os.makedirs(outdir)"
   ]
  },
  {
   "cell_type": "code",
   "execution_count": 35,
   "id": "91c11736",
   "metadata": {
    "scrolled": false
   },
   "outputs": [
    {
     "name": "stdout",
     "output_type": "stream",
     "text": [
      "loading patch:  control_1\n",
      "Loaded 'times' from datafile\n",
      "loading patch:  control_2\n",
      "Loaded 'times' from datafile\n",
      "loading patch:  control_3\n",
      "Loaded 'times' from datafile\n",
      "loading patch:  control_4\n",
      "Loaded 'times' from datafile\n",
      "loading patch:  control_5\n",
      "Loaded 'times' from datafile\n",
      "loading patch:  control_6\n",
      "Loaded 'times' from datafile\n",
      "loading patch:  control_7\n",
      "Loaded 'times' from datafile\n",
      "loading patch:  control_8\n",
      "Loaded 'times' from datafile\n",
      "loading patch:  control_9\n",
      "Loaded 'times' from datafile\n",
      "loading patch:  control_10\n",
      "Loaded 'times' from datafile\n",
      "loading patch:  control_11\n",
      "Loaded 'times' from datafile\n",
      "loading patch:  control_12\n",
      "Loaded 'times' from datafile\n",
      "loading patch:  control_13\n",
      "Loaded 'times' from datafile\n",
      "loading patch:  control_14\n",
      "Loaded 'times' from datafile\n",
      "loading patch:  control_15\n",
      "Loaded 'times' from datafile\n",
      "loading patch:  control_16_segment6\n",
      "Loaded 'times' from datafile\n",
      "loading patch:  control_16_segment37\n",
      "Loaded 'times' from datafile\n"
     ]
    }
   ],
   "source": [
    "# Load event files\n",
    "\n",
    "data_dict = {}\n",
    "for patch in group_list_all:\n",
    "    data_dict[patch] = {}\n",
    "    \n",
    "    print(\"loading patch: \", patch)\n",
    "    eventdata = np.loadtxt(os.path.join('./data/' + patch))\n",
    "    \n",
    "    times_nonzero = eventdata[:,1]\n",
    "    durations = np.diff(times_nonzero)\n",
    "    levels = eventdata[:,4]\n",
    "    \n",
    "    #Save traces in a dictionary\n",
    "    data_dict[patch].update({\"time\": times_nonzero, \"durations\": durations, \"levels\": levels})\n",
    "    \n",
    "    # Create array with level for each timepoint\n",
    "    dt = 0.000001 #sec\n",
    "    if os.path.isfile(os.path.join(outdir,patch+'_TimeLevel_dt.npy')):\n",
    "        times = np.load(os.path.join(outdir,patch+'_TimeLevel_dt.npy'))\n",
    "        timeframe = np.ceil(times[-1,0])\n",
    "        print(\"Loaded 'times' from datafile\")\n",
    "    else:\n",
    "        times_startzero = np.zeros((len(eventdata)))\n",
    "        times_startzero[:] = times_nonzero - eventdata[0,1] #adjusting to start at 0\n",
    "\n",
    "        timeframe = np.ceil(times_startzero[-1])\n",
    "        times = np.zeros((int(timeframe/dt),2))\n",
    "\n",
    "        try:\n",
    "            times[:,0] = np.arange(0,timeframe,dt)\n",
    "        except ValueError:\n",
    "            times[:,0] = np.arange(0,timeframe-dt,dt)\n",
    "\n",
    "        j=0\n",
    "        for i in range(0,len(times)-1):\n",
    "            if times[i,0] >= times_startzero[j] and times[i,0] < times_startzero[j+1]:\n",
    "                times[i,1] = [0, levels[j]][levels[j] == -1]\n",
    "            elif j == len(eventdata)-2:\n",
    "                break\n",
    "            else:\n",
    "                j=j+1\n",
    "                \n",
    "        #save 'times' vector for later use. Saves waiting time, especially for longer experiments. \n",
    "        with open(os.path.join(outdir,patch+'_TimeLevel_dt.npy'), 'wb') as f:\n",
    "            np.save(f, times)\n",
    "    data_dict[patch].update({\"time_dt\":times[:,0], \"level_dt\":times[:,1]})"
   ]
  },
  {
   "cell_type": "code",
   "execution_count": 36,
   "id": "033b7836",
   "metadata": {},
   "outputs": [
    {
     "name": "stdout",
     "output_type": "stream",
     "text": [
      "Total duration of recording in group control (s): 746.4038022699999\n",
      "Total number of channel closure events: 10915.0\n"
     ]
    }
   ],
   "source": [
    "# Calculate total duration and number of openings\n",
    "totaldur_group = 0\n",
    "number_events = 0\n",
    "for patch in group_list_all:\n",
    "    totaldur_group += data_dict[patch][\"time\"][-1] - data_dict[patch][\"time\"][0]\n",
    "    number_events += np.floor(len(data_dict[patch][\"levels\"])/2)\n",
    "\n",
    "print(\"Total duration of recording in group {} (s): {}\".format(group, totaldur_group))\n",
    "print(\"Total number of channel closure events: {}\".format(number_events))"
   ]
  },
  {
   "cell_type": "code",
   "execution_count": 37,
   "id": "c01509b2",
   "metadata": {
    "scrolled": false
   },
   "outputs": [
    {
     "name": "stdout",
     "output_type": "stream",
     "text": [
      "Number of bursts for control_1: 8\n",
      "Average burst duration (ms):  2275.4351428571426\n",
      "Number of bursts for control_2: 745\n",
      "Average burst duration (ms):  41.451201612903226\n",
      "Number of bursts for control_3: 105\n",
      "Average burst duration (ms):  23.286778846153847\n",
      "Number of bursts for control_4: 685\n",
      "Average burst duration (ms):  17.06776023391813\n",
      "Number of bursts for control_5: 20\n",
      "Average burst duration (ms):  180.52042105263158\n",
      "Number of bursts for control_6: 10\n",
      "Average burst duration (ms):  807.1924444444445\n",
      "Number of bursts for control_7: 17\n",
      "Average burst duration (ms):  349.380625\n",
      "Number of bursts for control_8: 46\n",
      "Average burst duration (ms):  104.13015555555555\n",
      "Number of bursts for control_9: 246\n",
      "Average burst duration (ms):  27.90988163265306\n",
      "Number of bursts for control_10: 63\n",
      "Average burst duration (ms):  272.5406935483871\n",
      "Number of bursts for control_11: 61\n",
      "Average burst duration (ms):  181.06668333333332\n",
      "Number of bursts for control_12: 11\n",
      "Average burst duration (ms):  445.70090000000005\n",
      "Number of bursts for control_13: 14\n",
      "Average burst duration (ms):  394.70876923076924\n",
      "Number of bursts for control_14: 11\n",
      "Average burst duration (ms):  114.6823\n",
      "Number of bursts for control_15: 180\n",
      "Average burst duration (ms):  44.60197765363129\n",
      "Number of bursts for control_16_segment6: 59\n",
      "Average burst duration (ms):  303.0676379310345\n",
      "Number of bursts for control_16_segment37: 1\n",
      "Zero bursts in patch\n",
      "\n",
      "Total number of bursts for group:  2282\n",
      "Average burst duration for group (ms):  67.43074966887417\n"
     ]
    }
   ],
   "source": [
    "#Calculate number of bursts\n",
    "\n",
    "def zero_runs(a):\n",
    "    ##Find runs of 0's in an array\n",
    "    # Create an array that is 1 where a is 0, and pad each end with an extra 0\n",
    "    iszero = np.concatenate(([0], np.equal(a, 0).view(np.int8), [0]))\n",
    "    absdiff = np.abs(np.diff(iszero))\n",
    "    # Runs start and end where absdiff is 1\n",
    "    ranges = np.where(absdiff == 1)[0].reshape(-1, 2)\n",
    "    return ranges\n",
    "\n",
    "def number_of_closed_periods(a, thresh): #Input is array of arrays from zero_runs()\n",
    "    ##Find number of closed periods >thresh (ms) in trace \n",
    "    Q_runs = np.where(a[:,1] - a[:,0] > thresh)\n",
    "    return len(Q_runs[0])\n",
    "    \n",
    "def get_indices_to_closed_periods(a, thresh): #Input is array of arrays from zero_runs()\n",
    "    ##Get indices for start and end of closed period >thresh (ms)\n",
    "    start_idx = []\n",
    "    end_idx = []\n",
    "    j=0\n",
    "    for i,Qrun in enumerate(a):\n",
    "        if Qrun[1] - Qrun[0] > thresh:\n",
    "            start_idx.append(Qrun[0])\n",
    "            end_idx.append(Qrun[1])\n",
    "    return start_idx, end_idx\n",
    "\n",
    "##Calculate time spent in burst\n",
    "if group == \"control\":\n",
    "    burst_delim = 31.8*1000 #ms to us\n",
    "elif group == \"apamin\":\n",
    "    burst_delim = 12.3*1000 #ms to us\n",
    "elif group == \"AP14145\":\n",
    "    burst_delim = 87.0*1000 #ms to us\n",
    "else:\n",
    "    print(\"Cannot assign burst delimiter. \")\n",
    "\n",
    "\n",
    "bursts = 0\n",
    "bursts_dur = []\n",
    "for patch in group_list_all:\n",
    "    #Find closed duration that split bursts\n",
    "    runs = zero_runs(data_dict[patch][\"level_dt\"])\n",
    "    number_burst = number_of_closed_periods(runs, burst_delim)\n",
    "    bursts += number_burst\n",
    "    print(\"Number of bursts for {}: {}\".format(patch, number_burst))\n",
    "    \n",
    "    endburst_idx, startburst_idx = get_indices_to_closed_periods(runs, burst_delim)\n",
    "\n",
    "    #Calculate burst duration\n",
    "    idx = 0\n",
    "    if startburst_idx[0] < endburst_idx[0]:\n",
    "        burstdur = [ele1 - ele2 for (ele1, ele2) in zip(endburst_idx,startburst_idx)]\n",
    "    else: \n",
    "        del endburst_idx[0]\n",
    "        burstdur = [ele1 - ele2 for (ele1, ele2) in zip(endburst_idx,startburst_idx)]\n",
    "    bursts_dur += burstdur\n",
    "    if len(burstdur) != 0:\n",
    "        print(\"Average burst duration (ms): \", sum(burstdur)/len(burstdur)/1000)\n",
    "    else:\n",
    "        print(\"Zero bursts in patch\")\n",
    "print(\"\")\n",
    "print(\"Total number of bursts for group: \", bursts)\n",
    "print(\"Average burst duration for group (ms): \", sum(bursts_dur)/len(bursts_dur)/1000)"
   ]
  },
  {
   "cell_type": "markdown",
   "id": "43c8baed",
   "metadata": {},
   "source": [
    "## Part 2: Analyze all single channel patches for Po and burst frequency"
   ]
  },
  {
   "cell_type": "code",
   "execution_count": 38,
   "id": "314fae20",
   "metadata": {},
   "outputs": [],
   "source": [
    "if group == 'control':\n",
    "    group_list_1ch = ['control_1','control_2','control_3','control_4','control_12']\n",
    "elif group == 'apamin':\n",
    "    group_list_1ch = ['apamin_1','apamin_2','apamin_3','apamin_4']\n",
    "elif group == 'AP14145':\n",
    "    group_list_1ch = ['AP14145_1','AP14145_2','AP14145_3','AP14145_4','AP14145_6','AP14145_8']"
   ]
  },
  {
   "cell_type": "code",
   "execution_count": 39,
   "id": "8f08d0cc",
   "metadata": {},
   "outputs": [
    {
     "name": "stdout",
     "output_type": "stream",
     "text": [
      "Total duration of recording in group control (s): 372.26588604\n"
     ]
    }
   ],
   "source": [
    "# Calculate total duration of recordings in group\n",
    "totaldur_group = 0\n",
    "for patch in group_list_1ch:\n",
    "    totaldur_group += data_dict[patch][\"time\"][-1] - data_dict[patch][\"time\"][0]\n",
    "\n",
    "print(\"Total duration of recording in group {} (s): {}\".format(group, totaldur_group))"
   ]
  },
  {
   "cell_type": "code",
   "execution_count": 40,
   "id": "53fb6d90",
   "metadata": {},
   "outputs": [
    {
     "name": "stdout",
     "output_type": "stream",
     "text": [
      "Open probability (Po): 0.897101\n",
      "Open probability (Po): 0.15643943670886076\n",
      "Open probability (Po): 0.0385108125\n",
      "Open probability (Po): 0.0404306779661017\n",
      "Open probability (Po): 0.45670533333333335\n",
      "\n",
      "Average open probability of entire group:  0.31783745210165915\n",
      "Open probability of entire group:  0.007326823529411765\n"
     ]
    }
   ],
   "source": [
    "# Calculate Po\n",
    "open_dt = 0\n",
    "all_level_length = 0\n",
    "Po_patch = np.zeros(len(group_list_1ch))\n",
    "for i, patch in enumerate(group_list_1ch):\n",
    "    nonzeros = np.count_nonzero(data_dict[patch][\"level_dt\"])\n",
    "    all_level_length += len(data_dict[patch][\"level_dt\"]) \n",
    "    Po_patch[i] = nonzeros/len(data_dict[patch][\"level_dt\"])\n",
    "    print(\"Open probability (Po): {}\".format(nonzeros/len(data_dict[patch][\"level_dt\"])))\n",
    "print(\"\")\n",
    "print(\"Average open probability of entire group: \", sum(Po_patch)/len(Po_patch))\n",
    "print(\"Open probability of entire group: \", nonzeros/all_level_length)"
   ]
  },
  {
   "cell_type": "code",
   "execution_count": 41,
   "id": "1083aa87",
   "metadata": {},
   "outputs": [
    {
     "name": "stdout",
     "output_type": "stream",
     "text": [
      "Number of bursts for control_1: 8\n",
      "Average burst duration (ms):  2275.4351428571426\n",
      "Number of bursts for control_2: 745\n",
      "Average burst duration (ms):  41.451201612903226\n",
      "Number of bursts for control_3: 105\n",
      "Average burst duration (ms):  23.286778846153847\n",
      "Number of bursts for control_4: 685\n",
      "Average burst duration (ms):  17.06776023391813\n",
      "Number of bursts for control_12: 11\n",
      "Average burst duration (ms):  445.70090000000005\n",
      "\n",
      "Total number of bursts for group:  1554\n",
      "Average burst duration for group (ms):  42.16973660426081\n",
      "Burst frequency (bursts/s):  4.174435687703661\n"
     ]
    }
   ],
   "source": [
    "# Calculate burst frequency\n",
    "bursts = 0\n",
    "bursts_dur = []\n",
    "for patch in group_list_1ch:\n",
    "    #Find closed duration that split bursts\n",
    "    runs = zero_runs(data_dict[patch][\"level_dt\"])\n",
    "    number_burst = number_of_closed_periods(runs, burst_delim)\n",
    "    bursts += number_burst\n",
    "    print(\"Number of bursts for {}: {}\".format(patch, number_burst))\n",
    "    \n",
    "    endburst_idx, startburst_idx = get_indices_to_closed_periods(runs, burst_delim)\n",
    "\n",
    "    #Calculate burst duration\n",
    "    idx = 0\n",
    "    if startburst_idx[0] < endburst_idx[0]:\n",
    "        burstdur = [ele1 - ele2 for (ele1, ele2) in zip(endburst_idx,startburst_idx)]\n",
    "    else: \n",
    "        del endburst_idx[0]\n",
    "        burstdur = [ele1 - ele2 for (ele1, ele2) in zip(endburst_idx,startburst_idx)]\n",
    "    bursts_dur += burstdur\n",
    "    if len(burstdur) != 0:\n",
    "        print(\"Average burst duration (ms): \", sum(burstdur)/len(burstdur)/1000)\n",
    "    else:\n",
    "        print(\"Zero bursts in patch\")\n",
    "print(\"\")\n",
    "print(\"Total number of bursts for group: \", bursts)\n",
    "print(\"Average burst duration for group (ms): \", sum(bursts_dur)/len(bursts_dur)/1000)\n",
    "print(\"Burst frequency (bursts/s): \", bursts/totaldur_group)"
   ]
  },
  {
   "cell_type": "code",
   "execution_count": 42,
   "id": "4bf7909c",
   "metadata": {},
   "outputs": [
    {
     "name": "stdout",
     "output_type": "stream",
     "text": [
      "% bins with Po<0.1:  86.41764705882353\n",
      "% bins with Po>0.8:  13.434064171122994\n"
     ]
    }
   ],
   "source": [
    "#Calculate time with Po<0.1 or Po>0.8 (in %)\n",
    "binsize = 0.1 #ms\n",
    "\n",
    "totalbins = 0\n",
    "nrbins_Po_lower_0p1 = 0\n",
    "nrbins_Po_higher_0p8 = 0\n",
    "#Calculate Po for each 100 dt-steps (dt=0.000001s=1us)\n",
    "for patch in group_list_1ch:\n",
    "    for i in range(0,len(data_dict[patch][\"level_dt\"]),100):\n",
    "        totalbins += 1\n",
    "        nonzeros = np.count_nonzero(data_dict[patch][\"level_dt\"][i:i+100])\n",
    "        Po_bin = nonzeros/100\n",
    "        if Po_bin < 0.1:\n",
    "            nrbins_Po_lower_0p1 += 1\n",
    "        if Po_bin > 0.8:\n",
    "            nrbins_Po_higher_0p8 += 1\n",
    "\n",
    "print(\"% bins with Po<0.1: \", nrbins_Po_lower_0p1*100/totalbins)\n",
    "print(\"% bins with Po>0.8: \", nrbins_Po_higher_0p8*100/totalbins)"
   ]
  },
  {
   "cell_type": "markdown",
   "id": "8779dcae",
   "metadata": {},
   "source": [
    "## Part 3: Analyze inter-burst behavior for selected patches"
   ]
  },
  {
   "cell_type": "code",
   "execution_count": 43,
   "id": "ff29e77b",
   "metadata": {},
   "outputs": [],
   "source": [
    "if group == 'control':\n",
    "    group_list = ['control_1', 'control_2', 'control_3', 'control_4']\n",
    "elif group == 'apamin':\n",
    "    group_list = ['apamin_1', 'apamin_2', 'apamin_3', 'apamin_4']\n",
    "elif group == 'AP14145':\n",
    "    group_list = ['AP14145_1', 'AP14145_2', 'AP14145_3']"
   ]
  },
  {
   "cell_type": "code",
   "execution_count": 44,
   "id": "1095c6a8",
   "metadata": {},
   "outputs": [
    {
     "name": "stdout",
     "output_type": "stream",
     "text": [
      "patch:  control_1\n",
      "max open dur:  0.3549825800000006\n",
      "max closed dur:  0.0653552899999994\n",
      "Po:  0.9125309388588866\n",
      "patch:  control_2\n",
      "max open dur:  0.20878509000000633\n",
      "max closed dur:  2.687538419999999\n",
      "Po:  0.15661436194677078\n",
      "patch:  control_3\n",
      "max open dur:  0.021921419999998193\n",
      "max closed dur:  0.7123318699999999\n",
      "Po:  0.039873424609884446\n",
      "patch:  control_4\n",
      "max open dur:  0.09436774999999997\n",
      "max closed dur:  2.797506830000003\n",
      "Po:  0.04053248222622269\n"
     ]
    }
   ],
   "source": [
    "binsize = 0.1 #ms\n",
    "dt = 0.000001 #s, results in dt=1us\n",
    "data_dict = {}\n",
    "open_dur_group = []\n",
    "closed_dur_group = []\n",
    "\n",
    "for patch in group_list:\n",
    "    print(\"patch: \", patch)\n",
    "    eventdata = np.loadtxt('data/' + patch)\n",
    "    \n",
    "    ## load data from event file\n",
    "    #time = np.zeros((len(eventdata)))\n",
    "    #level = np.zeros((len(eventdata)))\n",
    "    time = eventdata[:,1] - eventdata[0,1] #adjusting to start at 0\n",
    "    level = eventdata[:,4]\n",
    "    \n",
    "    all_dur = np.diff(time)\n",
    "    open_dur = all_dur[0::2]\n",
    "    closed_dur = all_dur[1::2]\n",
    "    print(\"max open dur: \", max(open_dur))\n",
    "    print(\"max closed dur: \", max(closed_dur))\n",
    "    print(\"Po: \", sum(open_dur)/(sum(open_dur)+sum(closed_dur)))\n",
    "    \n",
    "    open_dur_group.append(open_dur)\n",
    "    closed_dur_group.append(closed_dur)\n",
    "    \n",
    "    #Store results in dictionary\n",
    "    data_dict.update({patch: {\"time\": time, \"level\":level, \"timings\": all_dur, \\\n",
    "                              \"open_dur\": open_dur, \"closed_dur\": closed_dur}})\n",
    "    "
   ]
  },
  {
   "cell_type": "code",
   "execution_count": null,
   "id": "b36595e4",
   "metadata": {},
   "outputs": [],
   "source": []
  }
 ],
 "metadata": {
  "kernelspec": {
   "display_name": "Python 3",
   "language": "python",
   "name": "python3"
  },
  "language_info": {
   "codemirror_mode": {
    "name": "ipython",
    "version": 3
   },
   "file_extension": ".py",
   "mimetype": "text/x-python",
   "name": "python",
   "nbconvert_exporter": "python",
   "pygments_lexer": "ipython3",
   "version": "3.8.8"
  }
 },
 "nbformat": 4,
 "nbformat_minor": 5
}
