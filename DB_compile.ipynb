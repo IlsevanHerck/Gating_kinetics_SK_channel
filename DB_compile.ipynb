{
 "cells": [
  {
   "cell_type": "markdown",
   "metadata": {},
   "source": [
    "### Import results of patch analysis from json-files and export to excel"
   ]
  },
  {
   "cell_type": "code",
   "execution_count": 4,
   "metadata": {},
   "outputs": [],
   "source": [
    "import json\n",
    "import os\n",
    "import numpy as np\n",
    "import pandas as pd"
   ]
  },
  {
   "cell_type": "code",
   "execution_count": 5,
   "metadata": {},
   "outputs": [],
   "source": [
    "def compile_table(path_to_json):\n",
    "    json_files = [pos_json for pos_json in os.listdir(path_to_json) if pos_json.endswith('.json')]\n",
    "    file = 0\n",
    "    while file < len(json_files):\n",
    "        fname = json_files[file]\n",
    "        fobject = open(path_to_json+'/'+fname)\n",
    "        df_in = pd.read_json(fobject, orient='index')\n",
    "        if file == 0: out = df_in[0].copy() \n",
    "        else:\n",
    "            missing = out.index.difference(df_in.index)\n",
    "            extra = df_in.index.difference(out.index)\n",
    "            print('variables not in source: '+str(len(missing)))\n",
    "            print('variables not in target: '+str(len(extra)))\n",
    "            out = pd.concat([out,df_in], axis=1)\n",
    "        file = file+1    \n",
    "    return out\n",
    "    \n",
    "    "
   ]
  },
  {
   "cell_type": "code",
   "execution_count": 6,
   "metadata": {
    "scrolled": false
   },
   "outputs": [],
   "source": [
    "current = os.getcwd()\n",
    "\n",
    "path = (current+'/patch_analysis')\n",
    "data = compile_table(path)\n",
    "\n",
    "with pd.ExcelWriter(path+\"/patch_comparison.xlsx\") as writer:\n",
    "    data.to_excel(writer, sheet_name=\"Sheet1\")  "
   ]
  },
  {
   "cell_type": "code",
   "execution_count": null,
   "metadata": {},
   "outputs": [],
   "source": []
  },
  {
   "cell_type": "code",
   "execution_count": null,
   "metadata": {},
   "outputs": [],
   "source": []
  }
 ],
 "metadata": {
  "kernelspec": {
   "display_name": "Python 3",
   "language": "python",
   "name": "python3"
  },
  "language_info": {
   "codemirror_mode": {
    "name": "ipython",
    "version": 3
   },
   "file_extension": ".py",
   "mimetype": "text/x-python",
   "name": "python",
   "nbconvert_exporter": "python",
   "pygments_lexer": "ipython3",
   "version": "3.8.8"
  }
 },
 "nbformat": 4,
 "nbformat_minor": 4
}
